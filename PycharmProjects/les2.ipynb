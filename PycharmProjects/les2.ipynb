{
 "cells": [
  {
   "cell_type": "code",
   "execution_count": 36,
   "metadata": {},
   "outputs": [
    {
     "name": "stdout",
     "output_type": "stream",
     "text": [
      "Введите число между 0 и 1000\n",
      "1234\n",
      "Введите число между 0 и 1000\n",
      "1234\n",
      "Введите число между 0 и 1000\n",
      "1\n",
      "1\n",
      "1   1\n"
     ]
    }
   ],
   "source": [
    "userinp = 1001\n",
    "while int(userinp) > 1000 or int(userinp) < 0: \n",
    "    print ('Введите число между 0 и 1000')\n",
    "    userinp = input()\n",
    "print(userinp)\n",
    "\n",
    "max = str(0)\n",
    "min = str(9)\n",
    "for i in range(len(userinp)):\n",
    "    if min >= userinp[i]:\n",
    "        min = userinp[i]\n",
    "    if max <= userinp[i]:\n",
    "        max = userinp[i]\n",
    "\n",
    "print(min, ' ', max)"
   ]
  },
  {
   "cell_type": "code",
   "execution_count": 56,
   "metadata": {},
   "outputs": [
    {
     "name": "stdout",
     "output_type": "stream",
     "text": [
      "('January', 'February', 'March', 'April', 'May', 'June', 'July', 'August', 'September', 'October', 'November', 'December')\n",
      "Введите номер месяца от 0 до 11 или его название\n",
      "1\n",
      "1\n",
      "February\n"
     ]
    }
   ],
   "source": [
    "monthmap = ('January','February','March','April','May','June','July','August','September','October','November','December')\n",
    "print(monthmap)\n",
    "print('Введите номер месяца от 0 до 11 или его название')\n",
    "int(userinp)\n",
    "userinp = input()\n",
    "print(userinp)\n",
    "if (userinp >= '0' or userinp <= '11'): print(monthmap[int(userinp)]) \n"
   ]
  },
  {
   "cell_type": "code",
   "execution_count": 53,
   "metadata": {},
   "outputs": [
    {
     "ename": "SyntaxError",
     "evalue": "invalid syntax (<ipython-input-53-b9ebb8fd8d23>, line 1)",
     "output_type": "error",
     "traceback": [
      "\u001b[1;36m  File \u001b[1;32m\"<ipython-input-53-b9ebb8fd8d23>\"\u001b[1;36m, line \u001b[1;32m1\u001b[0m\n\u001b[1;33m    monthmap = {0:'January',1:'February',2:'March',3:'April',4:'May',5:'June',6:'July',7:'August',8:'September',9:'October',10:'November',11:'December']\u001b[0m\n\u001b[1;37m                                                                                                                                                       ^\u001b[0m\n\u001b[1;31mSyntaxError\u001b[0m\u001b[1;31m:\u001b[0m invalid syntax\n"
     ]
    }
   ],
   "source": []
  }
 ],
 "metadata": {
  "kernelspec": {
   "display_name": "Python 3",
   "language": "python",
   "name": "python3"
  },
  "language_info": {
   "codemirror_mode": {
    "name": "ipython",
    "version": 3
   },
   "file_extension": ".py",
   "mimetype": "text/x-python",
   "name": "python",
   "nbconvert_exporter": "python",
   "pygments_lexer": "ipython3",
   "version": "3.6.2"
  }
 },
 "nbformat": 4,
 "nbformat_minor": 2
}
