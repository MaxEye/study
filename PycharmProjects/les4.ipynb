{
 "cells": [
  {
   "cell_type": "code",
   "execution_count": 37,
   "metadata": {},
   "outputs": [
    {
     "name": "stdout",
     "output_type": "stream",
     "text": [
      "mary eater 150\n",
      "otdel 100 1 0\n"
     ]
    },
    {
     "ename": "TypeError",
     "evalue": "'int' object is not callable",
     "output_type": "error",
     "traceback": [
      "\u001b[1;31m---------------------------------------------------------------------------\u001b[0m",
      "\u001b[1;31mTypeError\u001b[0m                                 Traceback (most recent call last)",
      "\u001b[1;32m<ipython-input-37-de6e92ff327e>\u001b[0m in \u001b[0;36m<module>\u001b[1;34m()\u001b[0m\n\u001b[0;32m     42\u001b[0m \u001b[1;33m\u001b[0m\u001b[0m\n\u001b[0;32m     43\u001b[0m \u001b[0memp2\u001b[0m \u001b[1;33m=\u001b[0m \u001b[0mWorker\u001b[0m\u001b[1;33m(\u001b[0m\u001b[1;34m'otdel'\u001b[0m\u001b[1;33m,\u001b[0m\u001b[1;36m100\u001b[0m\u001b[1;33m,\u001b[0m\u001b[1;36m5\u001b[0m\u001b[1;33m,\u001b[0m\u001b[1;36m3\u001b[0m\u001b[1;33m)\u001b[0m\u001b[1;33m\u001b[0m\u001b[0m\n\u001b[1;32m---> 44\u001b[1;33m \u001b[0memp2\u001b[0m\u001b[1;33m.\u001b[0m\u001b[0msalary\u001b[0m\u001b[1;33m(\u001b[0m\u001b[1;33m)\u001b[0m\u001b[1;33m\u001b[0m\u001b[0m\n\u001b[0m",
      "\u001b[1;31mTypeError\u001b[0m: 'int' object is not callable"
     ]
    }
   ],
   "source": [
    "class Human:\n",
    "    def __init__(self, name, surname, age):\n",
    "        self.name = name\n",
    "        self.surname = surname\n",
    "        self.age = age\n",
    "    def inp(self,name,surname,age):\n",
    "        self.name = name\n",
    "        self.surname = surname\n",
    "        if (age >=0 or age <=120):\n",
    "            self.age = age\n",
    "        else:\n",
    "            self.age = 0\n",
    "    def pr(self):\n",
    "        print(self.name, self.surname,self.age)\n",
    "\n",
    "h1 = Human('peter','pumpkin',40)\n",
    "h1.inp('mary','eater',150)\n",
    "h1.pr()\n",
    "\n",
    "class Employee:\n",
    "    def __init__(self,dep,salary,plus,minus):\n",
    "        self.dep = dep\n",
    "        self.salary = salary\n",
    "        self.plus = plus\n",
    "        self.minus = minus\n",
    "    def pr(self):\n",
    "        print(self.dep,self.salary,self.plus,self.minus)\n",
    "    def plusplus(self):\n",
    "        self.plus += 1\n",
    "    def minusminus(self):\n",
    "        self.minus += 1\n",
    "\n",
    "emp1 = Employee('otdel',100,0,0)\n",
    "emp1.plusplus()\n",
    "emp1.pr()\n",
    "\n",
    "class Worker(Employee):\n",
    "    def __init__(self,dep,salary,plus,minus):\n",
    "        super().__init__(dep,salary,plus,minus)\n",
    "    def salary(self):\n",
    "        return self.salary + 2*self.plus - 3*self.minus\n",
    "\n",
    "emp2 = Worker('otdel',100,5,3)\n",
    "emp2.salary()"
   ]
  },
  {
   "cell_type": "code",
   "execution_count": 36,
   "metadata": {},
   "outputs": [
    {
     "ename": "AttributeError",
     "evalue": "'human' object has no attribute 'inp'",
     "output_type": "error",
     "traceback": [
      "\u001b[1;31m---------------------------------------------------------------------------\u001b[0m",
      "\u001b[1;31mAttributeError\u001b[0m                            Traceback (most recent call last)",
      "\u001b[1;32m<ipython-input-36-84fd47f5b16f>\u001b[0m in \u001b[0;36m<module>\u001b[1;34m()\u001b[0m\n\u001b[0;32m      1\u001b[0m \u001b[0mh1\u001b[0m \u001b[1;33m=\u001b[0m \u001b[0mhuman\u001b[0m\u001b[1;33m(\u001b[0m\u001b[1;34m'peter'\u001b[0m\u001b[1;33m,\u001b[0m\u001b[1;34m'pumpkin'\u001b[0m\u001b[1;33m,\u001b[0m\u001b[1;36m41\u001b[0m\u001b[1;33m)\u001b[0m\u001b[1;33m\u001b[0m\u001b[0m\n\u001b[1;32m----> 2\u001b[1;33m \u001b[0mh1\u001b[0m\u001b[1;33m.\u001b[0m\u001b[0minp\u001b[0m\u001b[1;33m(\u001b[0m\u001b[1;34m'mary'\u001b[0m\u001b[1;33m)\u001b[0m\u001b[1;33m\u001b[0m\u001b[0m\n\u001b[0m\u001b[0;32m      3\u001b[0m \u001b[0mprint\u001b[0m\u001b[1;33m(\u001b[0m\u001b[0mh1\u001b[0m\u001b[1;33m.\u001b[0m\u001b[0mname\u001b[0m\u001b[1;33m)\u001b[0m\u001b[1;33m\u001b[0m\u001b[0m\n",
      "\u001b[1;31mAttributeError\u001b[0m: 'human' object has no attribute 'inp'"
     ]
    }
   ],
   "source": [
    "h1 = human('peter','pumpkin',41)\n",
    "h1.inp('mary')\n",
    "print(h1.name)"
   ]
  },
  {
   "cell_type": "code",
   "execution_count": null,
   "metadata": {
    "collapsed": true
   },
   "outputs": [],
   "source": []
  },
  {
   "cell_type": "code",
   "execution_count": null,
   "metadata": {
    "collapsed": true
   },
   "outputs": [],
   "source": []
  },
  {
   "cell_type": "code",
   "execution_count": null,
   "metadata": {
    "collapsed": true
   },
   "outputs": [],
   "source": []
  }
 ],
 "metadata": {
  "kernelspec": {
   "display_name": "Python 3",
   "language": "python",
   "name": "python3"
  },
  "language_info": {
   "codemirror_mode": {
    "name": "ipython",
    "version": 3
   },
   "file_extension": ".py",
   "mimetype": "text/x-python",
   "name": "python",
   "nbconvert_exporter": "python",
   "pygments_lexer": "ipython3",
   "version": "3.6.2"
  }
 },
 "nbformat": 4,
 "nbformat_minor": 2
}
