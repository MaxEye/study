{
 "cells": [
  {
   "cell_type": "code",
   "execution_count": 209,
   "metadata": {
    "collapsed": true
   },
   "outputs": [],
   "source": [
    "class Employee:\n",
    "    def __init__(self, firtName, middleName, lastName, age, skills, salary):\n",
    "        self.firstName = firtName\n",
    "        self.middleName = middleName\n",
    "        self.lastName = lastName\n",
    "        self.age = age\n",
    "        self.skills = skills\n",
    "        self.salary = salary\n",
    "    @property\n",
    "    def salary(self):\n",
    "        return self.__salary\n",
    "    @salary.setter\n",
    "    def salary(self, salary):\n",
    "        self.__salary = salary\n",
    "        \n",
    "    @property\n",
    "    def age(self):\n",
    "        return self.__age\n",
    "    @age.setter\n",
    "    def age(self,age):\n",
    "        if age >= 20 and age <= 80:\n",
    "            self.__age = age\n",
    "        else:\n",
    "            self.__age = 20"
   ]
  },
  {
   "cell_type": "code",
   "execution_count": 210,
   "metadata": {},
   "outputs": [
    {
     "name": "stdout",
     "output_type": "stream",
     "text": [
      "100\n",
      "25\n",
      "20\n"
     ]
    }
   ],
   "source": [
    "e1 = Employee('max','','',21,'empty',100)\n",
    "print(e1.salary)\n",
    "e1.age = 25\n",
    "print(e1.age)\n",
    "e1.age = 19\n",
    "print(e1.age)"
   ]
  },
  {
   "cell_type": "code",
   "execution_count": 140,
   "metadata": {},
   "outputs": [],
   "source": [
    "class EmployeeHour(Employee):\n",
    "    def __init__(self, firtName, middleName, lastName, age, skills, salary, hour):\n",
    "        super().__init__(firtName, middleName, lastName, age, skills, salary)\n",
    "        self.hour = hour\n",
    "    \n",
    "    @property\n",
    "    def salary(self):\n",
    "        return self.hour*300\n",
    "    @salary.setter\n",
    "    def salary(self, salary):\n",
    "        pass\n",
    "    @property\n",
    "    def skills(self):\n",
    "        return self.__skills\n",
    "    @skills.setter\n",
    "    def skills(self, skills):\n",
    "        self.__skills = skills.append(skills)   "
   ]
  },
  {
   "cell_type": "code",
   "execution_count": 202,
   "metadata": {},
   "outputs": [
    {
     "data": {
      "text/plain": [
       "12000"
      ]
     },
     "execution_count": 202,
     "metadata": {},
     "output_type": "execute_result"
    }
   ],
   "source": [
    "e2 = EmployeeHour('jane','','',31,['sleep','abscent'],0,40)\n",
    "e2.salary"
   ]
  },
  {
   "cell_type": "code",
   "execution_count": 191,
   "metadata": {},
   "outputs": [
    {
     "name": "stdout",
     "output_type": "stream",
     "text": [
      "0\n",
      "1\n",
      "2\n",
      "3\n",
      "4\n",
      "5\n",
      "6\n",
      "7\n",
      "8\n",
      "9\n"
     ]
    }
   ],
   "source": [
    "def prfun():\n",
    "    for i in range(10):\n",
    "        print (i)\n",
    "        \n",
    "prfun()"
   ]
  },
  {
   "cell_type": "code",
   "execution_count": 201,
   "metadata": {},
   "outputs": [],
   "source": [
    "import timeit\n",
    "\n",
    "def decPrFun(prfun):\n",
    "    def decPrFunWrapper():\n",
    "        print('wrapper')\n",
    "        start = timeit.default_timer()\n",
    "        prfun()\n",
    "        stop = timeit.default_timer()\n",
    "        execution_time = stop - start\n",
    "        print(execution_time)\n",
    "        print('wrapper')\n",
    "    return decPrFunWrapper"
   ]
  },
  {
   "cell_type": "code",
   "execution_count": 199,
   "metadata": {},
   "outputs": [
    {
     "name": "stdout",
     "output_type": "stream",
     "text": [
      "wrapper\n",
      "0\n",
      "1\n",
      "2\n",
      "3\n",
      "4\n",
      "5\n",
      "6\n",
      "7\n",
      "8\n",
      "9\n",
      "--- 0.0 seconds ---\n",
      "wrapper\n"
     ]
    }
   ],
   "source": [
    "h1 = decPrFun(prfun)\n",
    "h1()"
   ]
  }
 ],
 "metadata": {
  "kernelspec": {
   "display_name": "Python 3",
   "language": "python",
   "name": "python3"
  },
  "language_info": {
   "codemirror_mode": {
    "name": "ipython",
    "version": 3
   },
   "file_extension": ".py",
   "mimetype": "text/x-python",
   "name": "python",
   "nbconvert_exporter": "python",
   "pygments_lexer": "ipython3",
   "version": "3.6.2"
  }
 },
 "nbformat": 4,
 "nbformat_minor": 2
}
