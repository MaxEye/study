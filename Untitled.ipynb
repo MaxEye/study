{
 "cells": [
  {
   "cell_type": "code",
   "execution_count": 5,
   "metadata": {},
   "outputs": [
    {
     "name": "stdout",
     "output_type": "stream",
     "text": [
      "1\n",
      "10\n",
      "NY\n",
      "total is 11.5\n"
     ]
    }
   ],
   "source": [
    "d = {'NY':0.15,'LA':0.20}\n",
    "disc = 0.08\n",
    "d['NY']\n",
    "count = float(input())\n",
    "price = float(input())\n",
    "state = input()\n",
    "print('total is %s' % (count*price*(1+d[state])))"
   ]
  }
 ],
 "metadata": {
  "kernelspec": {
   "display_name": "Python 3",
   "language": "python",
   "name": "python3"
  },
  "language_info": {
   "codemirror_mode": {
    "name": "ipython",
    "version": 3
   },
   "file_extension": ".py",
   "mimetype": "text/x-python",
   "name": "python",
   "nbconvert_exporter": "python",
   "pygments_lexer": "ipython3",
   "version": "3.6.4"
  }
 },
 "nbformat": 4,
 "nbformat_minor": 2
}
